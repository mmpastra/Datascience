{
 "cells": [
  {
   "cell_type": "markdown",
   "metadata": {
    "id": "gzJLet17WTzh"
   },
   "source": [
    "**MARIA MARCELA PASTRANA DAVID - CC 43269287**\n",
    "\n",
    "# Proyecto 03 - Sistemas de Recomendación\n",
    "\n",
    "## Dataset: STEAM\n",
    "\n",
    "**Recuerda descargar el dataset de [aquí](https://github.com/kang205/SASRec). Son dos archivos, uno de calificaciones y otro de información sobre los juegos.**\n",
    "\n",
    "En este notebook te dejamos unas celdas para que puedas comenzar a trabajar con este dataset. Sin embargo, **deberás** modificarlas para hacer un mejor manejo de datos. Algunas cosas a las que deberás prestar atención (tal vez no a todas):\n",
    "1. Tipos de datos: elige tipos de datos apropiados para cada columna.\n",
    "2. Descartar columnas poco informativas.\n",
    "3. Guardar en memoria datasets preprocesados para no tener que repetir código que tarde en correr.\n",
    "\n",
    "### Exploración de datos\n",
    "\n",
    "Dedícale un buen tiempo a hacer un Análisis Exploratorio de Datos. Elige preguntas que creas que puedas responder con este dataset. Por ejemplo, ¿cuáles son los juegos más populares?¿Y los menos populares?\n",
    "\n",
    "### Filtro Colaborativo\n",
    "\n",
    "Deberás implementar un sistema de recomendación colaborativo para este dataset. Ten en cuenta:\n",
    "\n",
    "1. Haz todas las transformaciones de datos que consideres necesarias. Justifica.\n",
    "1. Evalúa de forma apropiada sus resultados. Justifica la métrica elegida.\n",
    "1. Elige un modelo benchmark y compara tus resultados con este modelo.\n",
    "1. Optimiza los hiperparámetros de tu modelo.\n",
    "\n",
    "Puedes implementar un filtro colaborativo a partir de la similitud coseno o índice de Jaccard. ¿Puedes utilizar los métodos de la librería Surprise? Si no es así, busca implementaciones (por ejemplo, nuevas librerías) que sean apropiadas.\n",
    "\n",
    "Para comenzar a trabajar, puedes asumir que cada entrada es un enlace entre una persona usuaria y un item, **independientemente** de si la crítica es buena o mala. \n",
    "\n",
    "### Para pensar, investigar y, opcionalmente, implementar\n",
    "1. ¿Cómo harías para ponerle un valor a la calificación?\n",
    "1. ¿Cómo harías para agregar contenido? Por ejemplo, cuentas con el género, precio, fecha de lanzamiento y más información de los juegos.\n",
    "1. ¿Hay algo que te gustaría investigar o probar?\n",
    "\n",
    "### **¡Tómate tiempo para investigar y leer mucho!**\n",
    "\n",
    "## 0. INSTRUCCIONES DE UNICA EJECUCIÓN PARA EXTRAER DATASETS DE INTERES ##\n",
    "\n",
    "**Importante** ESTA SECCIÓN SÓLO SE CORRE LA PRIMERA VEZ Y POR ESTO EN EL ENTREGABLE SE ENVIARA COMENTADA PORQUE TARDA MUCHO EN CARGAR EL DATASET ORIGINAL Y SE PARTE DE LOS DATASETS EXTRAIDOS AL FINAL DE DICHA SECCIÓN."
   ]
  },
  {
   "cell_type": "code",
   "execution_count": 1,
   "metadata": {
    "id": "lWZhtUxEWTzj"
   },
   "outputs": [],
   "source": [
    "import gzip\n",
    "import pandas as pd\n",
    "\n",
    "def parse(path):\n",
    "    g = gzip.open(path, 'r')\n",
    "    for l in g:\n",
    "        yield eval(l)"
   ]
  },
  {
   "cell_type": "markdown",
   "metadata": {
    "id": "BmEM25k4WTzw"
   },
   "source": [
    "**Reviews**"
   ]
  },
  {
   "cell_type": "code",
   "execution_count": 2,
   "metadata": {
    "id": "abAXItn1WTz0"
   },
   "outputs": [],
   "source": [
    "contador = 0\n",
    "data_reviews = []\n",
    "# Vamos a guardar una de cada 10 reviews para no llenar la memoria RAM. Si pones n = 3, \n",
    "# abrira uno de cada tres, y asi.\n",
    "n = 10\n",
    "###for l in parse('steam_reviews.json.gz'):\n",
    "###    if contador%n == 0:\n",
    "###        data_reviews.append(l)\n",
    "###    else:\n",
    "###        pass\n",
    "###    contador += 1\n"
   ]
  },
  {
   "cell_type": "code",
   "execution_count": 3,
   "metadata": {
    "id": "7GovAZQBWTz8"
   },
   "outputs": [],
   "source": [
    "#data_reviews = pd.DataFrame(data_reviews)"
   ]
  },
  {
   "cell_type": "code",
   "execution_count": 4,
   "metadata": {
    "id": "j24F0ZaYWT0E"
   },
   "outputs": [],
   "source": [
    "#data_reviews.head()"
   ]
  },
  {
   "cell_type": "code",
   "execution_count": 5,
   "metadata": {},
   "outputs": [],
   "source": [
    "#data_reviews.tail()"
   ]
  },
  {
   "cell_type": "code",
   "execution_count": 6,
   "metadata": {
    "id": "8F-EVRZ4WT0L"
   },
   "outputs": [],
   "source": [
    "#data_reviews.isna().sum()"
   ]
  },
  {
   "cell_type": "markdown",
   "metadata": {
    "id": "04ed3teRWT0T"
   },
   "source": [
    "**Games**"
   ]
  },
  {
   "cell_type": "code",
   "execution_count": 7,
   "metadata": {
    "id": "8wRb24Y5WT0U"
   },
   "outputs": [],
   "source": [
    "data_games = []\n",
    "#for l in parse('steam_games.json.gz'):\n",
    "#    data_games.append(l)\n",
    "#data_games = pd.DataFrame(data_games)"
   ]
  },
  {
   "cell_type": "code",
   "execution_count": 8,
   "metadata": {
    "id": "sVR0Cs6SWT0b"
   },
   "outputs": [],
   "source": [
    "#data_games.head()"
   ]
  },
  {
   "cell_type": "code",
   "execution_count": 9,
   "metadata": {
    "id": "Bt5BLCw5WT0g"
   },
   "outputs": [],
   "source": [
    "#data_games[data_games.id == '725280']"
   ]
  },
  {
   "cell_type": "code",
   "execution_count": 10,
   "metadata": {},
   "outputs": [],
   "source": [
    "#data_games.isna().sum()"
   ]
  },
  {
   "cell_type": "markdown",
   "metadata": {},
   "source": [
    "-----------------------------------------------------------------------------------------------"
   ]
  },
  {
   "cell_type": "markdown",
   "metadata": {},
   "source": [
    "**DATASET FILTRADO CON COLUMNAS DE INTERES**"
   ]
  },
  {
   "cell_type": "code",
   "execution_count": 11,
   "metadata": {},
   "outputs": [],
   "source": [
    "#ReviewsFiltrado = data_reviews[['username', 'hours', 'product_id']]"
   ]
  },
  {
   "cell_type": "code",
   "execution_count": 12,
   "metadata": {},
   "outputs": [],
   "source": [
    "#ReviewsFiltrado"
   ]
  },
  {
   "cell_type": "code",
   "execution_count": 13,
   "metadata": {},
   "outputs": [],
   "source": [
    "#ReviewsFiltrado.info()"
   ]
  },
  {
   "cell_type": "code",
   "execution_count": 14,
   "metadata": {},
   "outputs": [],
   "source": [
    "#GamesFiltrado = data_games[['id', 'app_name']]"
   ]
  },
  {
   "cell_type": "code",
   "execution_count": 15,
   "metadata": {},
   "outputs": [],
   "source": [
    "#GamesFiltrado"
   ]
  },
  {
   "cell_type": "code",
   "execution_count": 16,
   "metadata": {},
   "outputs": [],
   "source": [
    "#if False:\n",
    "#    ReviewsFiltrado.to_csv('C:/Datos/Cursos y capacitaciones/DataScience-Acamica/Notebooks/Sprint3/P3_reviews.csv', index= False)\n",
    "#    GamesFiltrado.to_csv('C:/Datos/Cursos y capacitaciones/DataScience-Acamica/Notebooks/Sprint3/P3_games.csv', index= False)\n",
    " "
   ]
  },
  {
   "cell_type": "markdown",
   "metadata": {},
   "source": [
    "## 1. RECARGA DATASET E INICIO DE PREPROCESAMIENTO\n",
    "La primera sección de este Notebook se utiliza para tomar el dataset inicial entregado para ser procesado y se extraen de él unicamente las columnas de interes para el primer modelo de sistema de recomendación. \n",
    "\n",
    "Las pasadas instrucciones sólo fueron ejecutadas una vez y en las siguientes ejecuciones sólo es necesario tener los archivos .csv ya predefinidos para continuar la construcción del modelo."
   ]
  },
  {
   "cell_type": "code",
   "execution_count": 17,
   "metadata": {},
   "outputs": [],
   "source": [
    "import numpy as np\n",
    "import matplotlib.pyplot as plt\n",
    "import seaborn as sns\n",
    "sns.set()\n",
    "\n",
    "import pandas as pd\n",
    "\n",
    "import gc #garbage collector\n",
    "\n",
    "from surprise import Dataset\n",
    "from surprise import Reader\n",
    "from surprise.model_selection import train_test_split\n",
    "from sklearn.preprocessing import LabelEncoder"
   ]
  },
  {
   "cell_type": "markdown",
   "metadata": {},
   "source": [
    "Se cargan los datos preprocesados en el primer bloque de este notebook, pero que ya continen unicamente los datos de interes actual para el proyecto.\n",
    "\n",
    "**Carga de Reviews**\n",
    "\n",
    "Se carga dataset preprocesado de nombre P3_reviews.csv, es un dataset de mas de 700 mil registros, de el se descartan registros con valores nulos."
   ]
  },
  {
   "cell_type": "code",
   "execution_count": 18,
   "metadata": {},
   "outputs": [
    {
     "name": "stdout",
     "output_type": "stream",
     "text": [
      "(779307, 3)\n"
     ]
    },
    {
     "data": {
      "text/html": [
       "<div>\n",
       "<style scoped>\n",
       "    .dataframe tbody tr th:only-of-type {\n",
       "        vertical-align: middle;\n",
       "    }\n",
       "\n",
       "    .dataframe tbody tr th {\n",
       "        vertical-align: top;\n",
       "    }\n",
       "\n",
       "    .dataframe thead th {\n",
       "        text-align: right;\n",
       "    }\n",
       "</style>\n",
       "<table border=\"1\" class=\"dataframe\">\n",
       "  <thead>\n",
       "    <tr style=\"text-align: right;\">\n",
       "      <th></th>\n",
       "      <th>username</th>\n",
       "      <th>hours</th>\n",
       "      <th>product_id</th>\n",
       "    </tr>\n",
       "  </thead>\n",
       "  <tbody>\n",
       "    <tr>\n",
       "      <th>0</th>\n",
       "      <td>Chaos Syren</td>\n",
       "      <td>0.1</td>\n",
       "      <td>725280</td>\n",
       "    </tr>\n",
       "    <tr>\n",
       "      <th>1</th>\n",
       "      <td>Ariman1</td>\n",
       "      <td>13.2</td>\n",
       "      <td>328100</td>\n",
       "    </tr>\n",
       "    <tr>\n",
       "      <th>2</th>\n",
       "      <td>freakfantom</td>\n",
       "      <td>0.1</td>\n",
       "      <td>725280</td>\n",
       "    </tr>\n",
       "    <tr>\n",
       "      <th>3</th>\n",
       "      <td>The_Cpt_FROGGY</td>\n",
       "      <td>7.8</td>\n",
       "      <td>631920</td>\n",
       "    </tr>\n",
       "    <tr>\n",
       "      <th>4</th>\n",
       "      <td>the_maker988</td>\n",
       "      <td>8.2</td>\n",
       "      <td>35140</td>\n",
       "    </tr>\n",
       "  </tbody>\n",
       "</table>\n",
       "</div>"
      ],
      "text/plain": [
       "         username  hours  product_id\n",
       "0     Chaos Syren    0.1      725280\n",
       "1         Ariman1   13.2      328100\n",
       "2     freakfantom    0.1      725280\n",
       "3  The_Cpt_FROGGY    7.8      631920\n",
       "4    the_maker988    8.2       35140"
      ]
     },
     "execution_count": 18,
     "metadata": {},
     "output_type": "execute_result"
    }
   ],
   "source": [
    "ReviewsFiltrado = pd.read_csv(r'C:\\Datos\\Cursos y capacitaciones\\DataScience-Acamica\\Notebooks\\Sprint3\\P3_reviews.csv', dtype={'Rating': np.int8, 'movie_id': np.int16})\n",
    "print(ReviewsFiltrado.shape)\n",
    "ReviewsFiltrado.head()"
   ]
  },
  {
   "cell_type": "code",
   "execution_count": 19,
   "metadata": {},
   "outputs": [
    {
     "data": {
      "text/plain": [
       "username        18\n",
       "hours         2637\n",
       "product_id       0\n",
       "dtype: int64"
      ]
     },
     "execution_count": 19,
     "metadata": {},
     "output_type": "execute_result"
    }
   ],
   "source": [
    "ReviewsFiltrado.isna().sum()"
   ]
  },
  {
   "cell_type": "code",
   "execution_count": 20,
   "metadata": {},
   "outputs": [],
   "source": [
    "ReviewsFiltrado.dropna(inplace=True)"
   ]
  },
  {
   "cell_type": "markdown",
   "metadata": {},
   "source": [
    "**Carga de Games**\n",
    "\n",
    "Se carga dataset preprocesado de nombre P3_games.csv, es un dataset de mas de 32 mil registros, de el se descartan registros con valores nulos."
   ]
  },
  {
   "cell_type": "code",
   "execution_count": 21,
   "metadata": {},
   "outputs": [
    {
     "name": "stdout",
     "output_type": "stream",
     "text": [
      "(32135, 2)\n"
     ]
    }
   ],
   "source": [
    "GamesFiltrado = pd.read_csv(r'C:\\Datos\\Cursos y capacitaciones\\DataScience-Acamica\\Notebooks\\Sprint3\\P3_games.csv', dtype={'Rating': np.int8, 'movie_id': np.int16})\n",
    "print(GamesFiltrado.shape)\n"
   ]
  },
  {
   "cell_type": "code",
   "execution_count": 22,
   "metadata": {},
   "outputs": [
    {
     "data": {
      "text/plain": [
       "id          2\n",
       "app_name    2\n",
       "dtype: int64"
      ]
     },
     "execution_count": 22,
     "metadata": {},
     "output_type": "execute_result"
    }
   ],
   "source": [
    "GamesFiltrado.isna().sum()"
   ]
  },
  {
   "cell_type": "code",
   "execution_count": 23,
   "metadata": {},
   "outputs": [],
   "source": [
    "GamesFiltrado.dropna(inplace=True)"
   ]
  },
  {
   "cell_type": "code",
   "execution_count": 24,
   "metadata": {},
   "outputs": [
    {
     "data": {
      "text/html": [
       "<div>\n",
       "<style scoped>\n",
       "    .dataframe tbody tr th:only-of-type {\n",
       "        vertical-align: middle;\n",
       "    }\n",
       "\n",
       "    .dataframe tbody tr th {\n",
       "        vertical-align: top;\n",
       "    }\n",
       "\n",
       "    .dataframe thead th {\n",
       "        text-align: right;\n",
       "    }\n",
       "</style>\n",
       "<table border=\"1\" class=\"dataframe\">\n",
       "  <thead>\n",
       "    <tr style=\"text-align: right;\">\n",
       "      <th></th>\n",
       "      <th>id</th>\n",
       "      <th>app_name</th>\n",
       "    </tr>\n",
       "  </thead>\n",
       "  <tbody>\n",
       "    <tr>\n",
       "      <th>0</th>\n",
       "      <td>761140</td>\n",
       "      <td>Lost Summoner Kitty</td>\n",
       "    </tr>\n",
       "    <tr>\n",
       "      <th>1</th>\n",
       "      <td>643980</td>\n",
       "      <td>Ironbound</td>\n",
       "    </tr>\n",
       "    <tr>\n",
       "      <th>2</th>\n",
       "      <td>670290</td>\n",
       "      <td>Real Pool 3D - Poolians</td>\n",
       "    </tr>\n",
       "    <tr>\n",
       "      <th>3</th>\n",
       "      <td>767400</td>\n",
       "      <td>弹炸人2222</td>\n",
       "    </tr>\n",
       "    <tr>\n",
       "      <th>4</th>\n",
       "      <td>773570</td>\n",
       "      <td>Log Challenge</td>\n",
       "    </tr>\n",
       "  </tbody>\n",
       "</table>\n",
       "</div>"
      ],
      "text/plain": [
       "       id                 app_name\n",
       "0  761140      Lost Summoner Kitty\n",
       "1  643980                Ironbound\n",
       "2  670290  Real Pool 3D - Poolians\n",
       "3  767400                  弹炸人2222\n",
       "4  773570            Log Challenge"
      ]
     },
     "execution_count": 24,
     "metadata": {},
     "output_type": "execute_result"
    }
   ],
   "source": [
    "GamesFiltrado['id'] = GamesFiltrado['id'].astype(np.int64)\n",
    "GamesFiltrado.head()"
   ]
  },
  {
   "cell_type": "code",
   "execution_count": 25,
   "metadata": {},
   "outputs": [],
   "source": [
    "JuegosRespaldo = GamesFiltrado.copy()"
   ]
  },
  {
   "cell_type": "markdown",
   "metadata": {},
   "source": [
    "## 2. EDA: ANÁLISIS EXPLORATORIO DE DATOS"
   ]
  },
  {
   "cell_type": "markdown",
   "metadata": {},
   "source": [
    "Se exploran los datos contenidos en los 2 datasets en busca de valores atipicos y faltantes, sus tipos de datos"
   ]
  },
  {
   "cell_type": "code",
   "execution_count": 26,
   "metadata": {},
   "outputs": [
    {
     "name": "stdout",
     "output_type": "stream",
     "text": [
      "<class 'pandas.core.frame.DataFrame'>\n",
      "Int64Index: 776652 entries, 0 to 779306\n",
      "Data columns (total 3 columns):\n",
      " #   Column      Non-Null Count   Dtype  \n",
      "---  ------      --------------   -----  \n",
      " 0   username    776652 non-null  object \n",
      " 1   hours       776652 non-null  float64\n",
      " 2   product_id  776652 non-null  int64  \n",
      "dtypes: float64(1), int64(1), object(1)\n",
      "memory usage: 23.7+ MB\n"
     ]
    }
   ],
   "source": [
    "ReviewsFiltrado.info()"
   ]
  },
  {
   "cell_type": "markdown",
   "metadata": {},
   "source": [
    "Este es dataset de 776652 registros"
   ]
  },
  {
   "cell_type": "code",
   "execution_count": 27,
   "metadata": {},
   "outputs": [
    {
     "name": "stdout",
     "output_type": "stream",
     "text": [
      "<class 'pandas.core.frame.DataFrame'>\n",
      "Int64Index: 32132 entries, 0 to 32134\n",
      "Data columns (total 2 columns):\n",
      " #   Column    Non-Null Count  Dtype \n",
      "---  ------    --------------  ----- \n",
      " 0   id        32132 non-null  int64 \n",
      " 1   app_name  32132 non-null  object\n",
      "dtypes: int64(1), object(1)\n",
      "memory usage: 753.1+ KB\n"
     ]
    }
   ],
   "source": [
    "GamesFiltrado.info()"
   ]
  },
  {
   "cell_type": "markdown",
   "metadata": {},
   "source": [
    "Este es dataset de 32132 registros\n",
    "\n",
    "**Usuarios unicos**\n",
    "\n",
    "Se extrae del dataset que tenemos de reviews la cantidad de usuarios con las que contamos en el dataset."
   ]
  },
  {
   "cell_type": "code",
   "execution_count": 28,
   "metadata": {},
   "outputs": [],
   "source": [
    "usuarios = ReviewsFiltrado.username.unique()"
   ]
  },
  {
   "cell_type": "code",
   "execution_count": 29,
   "metadata": {},
   "outputs": [
    {
     "data": {
      "text/plain": [
       "539032"
      ]
     },
     "execution_count": 29,
     "metadata": {},
     "output_type": "execute_result"
    }
   ],
   "source": [
    "usuarios.size"
   ]
  },
  {
   "cell_type": "code",
   "execution_count": 30,
   "metadata": {},
   "outputs": [
    {
     "data": {
      "text/plain": [
       "123                      213\n",
       "Alex                     190\n",
       "Chris                    154\n",
       "Nick                     142\n",
       "Matt                     137\n",
       "                        ... \n",
       "Johhny SINS                1\n",
       "Api                        1\n",
       "Long Nose Garden Hose      1\n",
       "A Gingerbreadstick         1\n",
       "grey037                    1\n",
       "Name: username, Length: 539032, dtype: int64"
      ]
     },
     "execution_count": 30,
     "metadata": {},
     "output_type": "execute_result"
    }
   ],
   "source": [
    "countId = ReviewsFiltrado[\"username\"].value_counts()\n",
    "countId"
   ]
  },
  {
   "cell_type": "markdown",
   "metadata": {},
   "source": [
    "De la información anterior se observa que existen algunos usuarios que sólo tienen 1 review realizado, esto no es conveniente tenerlo en el modelo de recomendación, ya que estos al tener un unico juego no aportan al entrenamiento del modelo. \n",
    "\n",
    "Se parte a realizar las instrucciones para dejar solo usuarios que tengan mas de 2 registros de reviews en el dataset, codigo a continuación:"
   ]
  },
  {
   "cell_type": "code",
   "execution_count": 31,
   "metadata": {},
   "outputs": [
    {
     "data": {
      "text/plain": [
       "Index(['username'], dtype='object')"
      ]
     },
     "execution_count": 31,
     "metadata": {},
     "output_type": "execute_result"
    }
   ],
   "source": [
    "conteo = countId.to_frame()\n",
    "conteo.shape\n",
    "conteo.columns"
   ]
  },
  {
   "cell_type": "code",
   "execution_count": 32,
   "metadata": {},
   "outputs": [],
   "source": [
    "#dir(countId)"
   ]
  },
  {
   "cell_type": "code",
   "execution_count": 33,
   "metadata": {},
   "outputs": [
    {
     "data": {
      "text/plain": [
       "Index(['123', 'Alex', 'Chris', 'Nick', 'Matt', 'Tom', 'John', 'Jack', 'Dan',\n",
       "       'Saint Aaron',\n",
       "       ...\n",
       "       'Duck Tear Popper', 'mystic_headlock', 'Coplan',\n",
       "       '[NB]Grandpa Bardock Junior', 'csgosell.com hellcase.com',\n",
       "       'you already know who it is', 'headhunter', 'pato', 'Levi kohen',\n",
       "       'Homuya [GER]'],\n",
       "      dtype='object', length=41215)"
      ]
     },
     "execution_count": 33,
     "metadata": {},
     "output_type": "execute_result"
    }
   ],
   "source": [
    "nombres = countId.to_frame()[countId>2].index\n",
    "nombres"
   ]
  },
  {
   "cell_type": "code",
   "execution_count": 34,
   "metadata": {},
   "outputs": [
    {
     "data": {
      "text/plain": [
       "0         False\n",
       "1          True\n",
       "2         False\n",
       "3          True\n",
       "4         False\n",
       "          ...  \n",
       "779302     True\n",
       "779303    False\n",
       "779304    False\n",
       "779305     True\n",
       "779306    False\n",
       "Name: username, Length: 776652, dtype: bool"
      ]
     },
     "execution_count": 34,
     "metadata": {},
     "output_type": "execute_result"
    }
   ],
   "source": [
    "ReviewsFiltrado.username.isin(nombres)"
   ]
  },
  {
   "cell_type": "code",
   "execution_count": 35,
   "metadata": {},
   "outputs": [],
   "source": [
    "ReviewsFiltrado1 = ReviewsFiltrado[ReviewsFiltrado.username.isin(nombres)].copy()"
   ]
  },
  {
   "cell_type": "code",
   "execution_count": 36,
   "metadata": {},
   "outputs": [
    {
     "data": {
      "text/plain": [
       "username      󰀍 loopuleasa 󰀍\n",
       "hours                18543.3\n",
       "product_id            773650\n",
       "dtype: object"
      ]
     },
     "execution_count": 36,
     "metadata": {},
     "output_type": "execute_result"
    }
   ],
   "source": [
    "ReviewsFiltrado1.max()"
   ]
  },
  {
   "cell_type": "code",
   "execution_count": 37,
   "metadata": {},
   "outputs": [
    {
     "data": {
      "text/plain": [
       "123               213\n",
       "Alex              190\n",
       "Chris             154\n",
       "Nick              142\n",
       "Matt              137\n",
       "                 ... \n",
       "Mateescu12          3\n",
       "BelgianMonster      3\n",
       "Bahpu#              3\n",
       "Liro Raériyo        3\n",
       "Wakka               3\n",
       "Name: username, Length: 41215, dtype: int64"
      ]
     },
     "execution_count": 37,
     "metadata": {},
     "output_type": "execute_result"
    }
   ],
   "source": [
    "ReviewsFiltrado1[\"username\"].value_counts()"
   ]
  },
  {
   "cell_type": "markdown",
   "metadata": {},
   "source": [
    "Con la instrucción anterior se observa que los usuarios que quedaron todos ya tienen al menos 3 reviews.\n"
   ]
  },
  {
   "cell_type": "markdown",
   "metadata": {},
   "source": [
    "**Crear columna con codigo usuario para no manejar nombre largo**\n",
    "\n",
    "En esta sección se aplica la función labelEncoder para poder realizar el proceso de transformar los textos que contienen los nombres de los usuarios en un valor númerico, este código es mucho mas manejable para la implementación de los modelos en adelante."
   ]
  },
  {
   "cell_type": "code",
   "execution_count": 38,
   "metadata": {},
   "outputs": [],
   "source": [
    "ReviewsFiltrado1[\"usernameid\"] = LabelEncoder().fit_transform(ReviewsFiltrado1.username)"
   ]
  },
  {
   "cell_type": "code",
   "execution_count": 39,
   "metadata": {},
   "outputs": [
    {
     "data": {
      "text/html": [
       "<div>\n",
       "<style scoped>\n",
       "    .dataframe tbody tr th:only-of-type {\n",
       "        vertical-align: middle;\n",
       "    }\n",
       "\n",
       "    .dataframe tbody tr th {\n",
       "        vertical-align: top;\n",
       "    }\n",
       "\n",
       "    .dataframe thead th {\n",
       "        text-align: right;\n",
       "    }\n",
       "</style>\n",
       "<table border=\"1\" class=\"dataframe\">\n",
       "  <thead>\n",
       "    <tr style=\"text-align: right;\">\n",
       "      <th></th>\n",
       "      <th>username</th>\n",
       "      <th>hours</th>\n",
       "      <th>product_id</th>\n",
       "      <th>usernameid</th>\n",
       "    </tr>\n",
       "  </thead>\n",
       "  <tbody>\n",
       "    <tr>\n",
       "      <th>1</th>\n",
       "      <td>Ariman1</td>\n",
       "      <td>13.2</td>\n",
       "      <td>328100</td>\n",
       "      <td>2060</td>\n",
       "    </tr>\n",
       "    <tr>\n",
       "      <th>3</th>\n",
       "      <td>The_Cpt_FROGGY</td>\n",
       "      <td>7.8</td>\n",
       "      <td>631920</td>\n",
       "      <td>29144</td>\n",
       "    </tr>\n",
       "    <tr>\n",
       "      <th>6</th>\n",
       "      <td>Vonder</td>\n",
       "      <td>2.7</td>\n",
       "      <td>35600</td>\n",
       "      <td>30885</td>\n",
       "    </tr>\n",
       "    <tr>\n",
       "      <th>10</th>\n",
       "      <td>MrNinjaSquirrel</td>\n",
       "      <td>1.2</td>\n",
       "      <td>288690</td>\n",
       "      <td>19328</td>\n",
       "    </tr>\n",
       "    <tr>\n",
       "      <th>11</th>\n",
       "      <td>Puddle</td>\n",
       "      <td>1.2</td>\n",
       "      <td>308040</td>\n",
       "      <td>22521</td>\n",
       "    </tr>\n",
       "    <tr>\n",
       "      <th>...</th>\n",
       "      <td>...</td>\n",
       "      <td>...</td>\n",
       "      <td>...</td>\n",
       "      <td>...</td>\n",
       "    </tr>\n",
       "    <tr>\n",
       "      <th>779293</th>\n",
       "      <td>&gt;Artik&lt;</td>\n",
       "      <td>586.2</td>\n",
       "      <td>252490</td>\n",
       "      <td>663</td>\n",
       "    </tr>\n",
       "    <tr>\n",
       "      <th>779296</th>\n",
       "      <td>Banjo</td>\n",
       "      <td>290.4</td>\n",
       "      <td>252490</td>\n",
       "      <td>2913</td>\n",
       "    </tr>\n",
       "    <tr>\n",
       "      <th>779298</th>\n",
       "      <td>Slavic Psycho</td>\n",
       "      <td>3.9</td>\n",
       "      <td>252490</td>\n",
       "      <td>26200</td>\n",
       "    </tr>\n",
       "    <tr>\n",
       "      <th>779302</th>\n",
       "      <td>Vidaar</td>\n",
       "      <td>783.5</td>\n",
       "      <td>252490</td>\n",
       "      <td>30704</td>\n",
       "    </tr>\n",
       "    <tr>\n",
       "      <th>779305</th>\n",
       "      <td>Jerry</td>\n",
       "      <td>139.8</td>\n",
       "      <td>252490</td>\n",
       "      <td>14079</td>\n",
       "    </tr>\n",
       "  </tbody>\n",
       "</table>\n",
       "<p>212366 rows × 4 columns</p>\n",
       "</div>"
      ],
      "text/plain": [
       "               username  hours  product_id  usernameid\n",
       "1               Ariman1   13.2      328100        2060\n",
       "3        The_Cpt_FROGGY    7.8      631920       29144\n",
       "6                Vonder    2.7       35600       30885\n",
       "10      MrNinjaSquirrel    1.2      288690       19328\n",
       "11               Puddle    1.2      308040       22521\n",
       "...                 ...    ...         ...         ...\n",
       "779293          >Artik<  586.2      252490         663\n",
       "779296            Banjo  290.4      252490        2913\n",
       "779298    Slavic Psycho    3.9      252490       26200\n",
       "779302           Vidaar  783.5      252490       30704\n",
       "779305            Jerry  139.8      252490       14079\n",
       "\n",
       "[212366 rows x 4 columns]"
      ]
     },
     "execution_count": 39,
     "metadata": {},
     "output_type": "execute_result"
    }
   ],
   "source": [
    "ReviewsFiltrado1"
   ]
  },
  {
   "cell_type": "code",
   "execution_count": 40,
   "metadata": {},
   "outputs": [
    {
     "data": {
      "text/html": [
       "<div>\n",
       "<style scoped>\n",
       "    .dataframe tbody tr th:only-of-type {\n",
       "        vertical-align: middle;\n",
       "    }\n",
       "\n",
       "    .dataframe tbody tr th {\n",
       "        vertical-align: top;\n",
       "    }\n",
       "\n",
       "    .dataframe thead th {\n",
       "        text-align: right;\n",
       "    }\n",
       "</style>\n",
       "<table border=\"1\" class=\"dataframe\">\n",
       "  <thead>\n",
       "    <tr style=\"text-align: right;\">\n",
       "      <th></th>\n",
       "      <th>hours</th>\n",
       "      <th>product_id</th>\n",
       "      <th>usernameid</th>\n",
       "    </tr>\n",
       "  </thead>\n",
       "  <tbody>\n",
       "    <tr>\n",
       "      <th>count</th>\n",
       "      <td>212366.000000</td>\n",
       "      <td>212366.000000</td>\n",
       "      <td>212366.000000</td>\n",
       "    </tr>\n",
       "    <tr>\n",
       "      <th>mean</th>\n",
       "      <td>76.811539</td>\n",
       "      <td>247076.852933</td>\n",
       "      <td>20077.665521</td>\n",
       "    </tr>\n",
       "    <tr>\n",
       "      <th>std</th>\n",
       "      <td>308.348210</td>\n",
       "      <td>150441.460803</td>\n",
       "      <td>11726.051836</td>\n",
       "    </tr>\n",
       "    <tr>\n",
       "      <th>min</th>\n",
       "      <td>0.000000</td>\n",
       "      <td>10.000000</td>\n",
       "      <td>0.000000</td>\n",
       "    </tr>\n",
       "    <tr>\n",
       "      <th>25%</th>\n",
       "      <td>3.000000</td>\n",
       "      <td>200510.000000</td>\n",
       "      <td>10002.000000</td>\n",
       "    </tr>\n",
       "    <tr>\n",
       "      <th>50%</th>\n",
       "      <td>10.800000</td>\n",
       "      <td>250180.000000</td>\n",
       "      <td>20009.500000</td>\n",
       "    </tr>\n",
       "    <tr>\n",
       "      <th>75%</th>\n",
       "      <td>37.400000</td>\n",
       "      <td>341940.000000</td>\n",
       "      <td>29953.000000</td>\n",
       "    </tr>\n",
       "    <tr>\n",
       "      <th>max</th>\n",
       "      <td>18543.300000</td>\n",
       "      <td>773650.000000</td>\n",
       "      <td>41214.000000</td>\n",
       "    </tr>\n",
       "  </tbody>\n",
       "</table>\n",
       "</div>"
      ],
      "text/plain": [
       "               hours     product_id     usernameid\n",
       "count  212366.000000  212366.000000  212366.000000\n",
       "mean       76.811539  247076.852933   20077.665521\n",
       "std       308.348210  150441.460803   11726.051836\n",
       "min         0.000000      10.000000       0.000000\n",
       "25%         3.000000  200510.000000   10002.000000\n",
       "50%        10.800000  250180.000000   20009.500000\n",
       "75%        37.400000  341940.000000   29953.000000\n",
       "max     18543.300000  773650.000000   41214.000000"
      ]
     },
     "execution_count": 40,
     "metadata": {},
     "output_type": "execute_result"
    }
   ],
   "source": [
    "ReviewsFiltrado1.describe()"
   ]
  },
  {
   "cell_type": "markdown",
   "metadata": {},
   "source": [
    "**Crear atributo Ranking basado en el Nro de Horas jugadas**\n",
    "\n",
    "En esta sección se parte del supuesto donde si el usuario estuvo una cantidad alta de horas en el juego es porque le daria un mayor ranking.\n",
    "Como actualmente los valores de horas jugadas van de 0 a 28164, es un rango alto, se trata de llevar a un ranking de 1 a 5 solamente aplicandole algunas transformaciones a esta columna.\n"
   ]
  },
  {
   "cell_type": "code",
   "execution_count": 41,
   "metadata": {},
   "outputs": [
    {
     "data": {
      "text/html": [
       "<div>\n",
       "<style scoped>\n",
       "    .dataframe tbody tr th:only-of-type {\n",
       "        vertical-align: middle;\n",
       "    }\n",
       "\n",
       "    .dataframe tbody tr th {\n",
       "        vertical-align: top;\n",
       "    }\n",
       "\n",
       "    .dataframe thead th {\n",
       "        text-align: right;\n",
       "    }\n",
       "</style>\n",
       "<table border=\"1\" class=\"dataframe\">\n",
       "  <thead>\n",
       "    <tr style=\"text-align: right;\">\n",
       "      <th></th>\n",
       "      <th>username</th>\n",
       "      <th>hours</th>\n",
       "      <th>product_id</th>\n",
       "      <th>usernameid</th>\n",
       "    </tr>\n",
       "  </thead>\n",
       "  <tbody>\n",
       "    <tr>\n",
       "      <th>830</th>\n",
       "      <td>Tuong</td>\n",
       "      <td>283.8</td>\n",
       "      <td>224900</td>\n",
       "      <td>29943</td>\n",
       "    </tr>\n",
       "    <tr>\n",
       "      <th>854</th>\n",
       "      <td>Nami M. May</td>\n",
       "      <td>1013.2</td>\n",
       "      <td>390340</td>\n",
       "      <td>19743</td>\n",
       "    </tr>\n",
       "    <tr>\n",
       "      <th>1031</th>\n",
       "      <td>aileigh</td>\n",
       "      <td>233.6</td>\n",
       "      <td>32900</td>\n",
       "      <td>33311</td>\n",
       "    </tr>\n",
       "    <tr>\n",
       "      <th>1318</th>\n",
       "      <td>Bob &amp; Weave</td>\n",
       "      <td>391.7</td>\n",
       "      <td>385770</td>\n",
       "      <td>3828</td>\n",
       "    </tr>\n",
       "    <tr>\n",
       "      <th>1483</th>\n",
       "      <td>Dee</td>\n",
       "      <td>688.2</td>\n",
       "      <td>1840</td>\n",
       "      <td>7363</td>\n",
       "    </tr>\n",
       "    <tr>\n",
       "      <th>...</th>\n",
       "      <td>...</td>\n",
       "      <td>...</td>\n",
       "      <td>...</td>\n",
       "      <td>...</td>\n",
       "    </tr>\n",
       "    <tr>\n",
       "      <th>779223</th>\n",
       "      <td>Timothy</td>\n",
       "      <td>200.1</td>\n",
       "      <td>252490</td>\n",
       "      <td>29399</td>\n",
       "    </tr>\n",
       "    <tr>\n",
       "      <th>779238</th>\n",
       "      <td>Frank</td>\n",
       "      <td>371.8</td>\n",
       "      <td>252490</td>\n",
       "      <td>10352</td>\n",
       "    </tr>\n",
       "    <tr>\n",
       "      <th>779293</th>\n",
       "      <td>&gt;Artik&lt;</td>\n",
       "      <td>586.2</td>\n",
       "      <td>252490</td>\n",
       "      <td>663</td>\n",
       "    </tr>\n",
       "    <tr>\n",
       "      <th>779296</th>\n",
       "      <td>Banjo</td>\n",
       "      <td>290.4</td>\n",
       "      <td>252490</td>\n",
       "      <td>2913</td>\n",
       "    </tr>\n",
       "    <tr>\n",
       "      <th>779302</th>\n",
       "      <td>Vidaar</td>\n",
       "      <td>783.5</td>\n",
       "      <td>252490</td>\n",
       "      <td>30704</td>\n",
       "    </tr>\n",
       "  </tbody>\n",
       "</table>\n",
       "<p>15516 rows × 4 columns</p>\n",
       "</div>"
      ],
      "text/plain": [
       "           username   hours  product_id  usernameid\n",
       "830           Tuong   283.8      224900       29943\n",
       "854     Nami M. May  1013.2      390340       19743\n",
       "1031        aileigh   233.6       32900       33311\n",
       "1318    Bob & Weave   391.7      385770        3828\n",
       "1483            Dee   688.2        1840        7363\n",
       "...             ...     ...         ...         ...\n",
       "779223      Timothy   200.1      252490       29399\n",
       "779238        Frank   371.8      252490       10352\n",
       "779293      >Artik<   586.2      252490         663\n",
       "779296        Banjo   290.4      252490        2913\n",
       "779302       Vidaar   783.5      252490       30704\n",
       "\n",
       "[15516 rows x 4 columns]"
      ]
     },
     "execution_count": 41,
     "metadata": {},
     "output_type": "execute_result"
    }
   ],
   "source": [
    "ReviewsFiltrado1[ReviewsFiltrado1.hours>200]"
   ]
  },
  {
   "cell_type": "code",
   "execution_count": 42,
   "metadata": {},
   "outputs": [
    {
     "data": {
      "text/plain": [
       "1          13.2\n",
       "3           7.8\n",
       "6           2.7\n",
       "10          1.2\n",
       "11          1.2\n",
       "          ...  \n",
       "779293    586.2\n",
       "779296    290.4\n",
       "779298      3.9\n",
       "779302    783.5\n",
       "779305    139.8\n",
       "Name: hours, Length: 212366, dtype: float64"
      ]
     },
     "execution_count": 42,
     "metadata": {},
     "output_type": "execute_result"
    }
   ],
   "source": [
    "Dfhoras=ReviewsFiltrado1.hours\n",
    "Dfhoras"
   ]
  },
  {
   "cell_type": "markdown",
   "metadata": {},
   "source": [
    "Se calculan los cuantiles para la columna de Horas Jugadas, determinando donde estan el 20%, 40%, 60%, 80% de los datos."
   ]
  },
  {
   "cell_type": "code",
   "execution_count": 43,
   "metadata": {},
   "outputs": [
    {
     "name": "stdout",
     "output_type": "stream",
     "text": [
      "0.2     2.1\n",
      "0.4     6.7\n",
      "0.6    16.9\n",
      "0.8    52.4\n",
      "Name: hours, dtype: float64\n"
     ]
    }
   ],
   "source": [
    "print(ReviewsFiltrado1.hours.quantile([0.20, 0.40, 0.60, 0.80]))\n",
    "#np.percentile(ReviewsFiltrado['hours'],100)"
   ]
  },
  {
   "cell_type": "markdown",
   "metadata": {},
   "source": [
    "**Transformar columna de Horas a Ranking**\n",
    "\n",
    "Para hacer la transformación de las horas a un puntaje entre 1 y 5, se realizan las siguientes funciones.\n",
    "En la función se usan los quantiles calculados para la columna de horas como referencia."
   ]
  },
  {
   "cell_type": "code",
   "execution_count": 44,
   "metadata": {},
   "outputs": [],
   "source": [
    "def calcularPuntajeHoras(x):\n",
    "    valor=0\n",
    "    if x>0 and x<2.1:\n",
    "      valor=1\n",
    "    elif x>=2.1 and x<6.7:\n",
    "      valor=2\n",
    "    elif x>=6.7 and x<16.9:\n",
    "      valor=3\n",
    "    elif x>=16.9 and x<52.4:\n",
    "      valor=4\n",
    "    else: \n",
    "      valor=5\n",
    "        \n",
    "    return valor"
   ]
  },
  {
   "cell_type": "code",
   "execution_count": 45,
   "metadata": {},
   "outputs": [],
   "source": [
    "def generarRanking(df_input):\n",
    "    return df_input.apply(lambda x: calcularPuntajeHoras(x))"
   ]
  },
  {
   "cell_type": "code",
   "execution_count": 46,
   "metadata": {},
   "outputs": [
    {
     "data": {
      "text/html": [
       "<div>\n",
       "<style scoped>\n",
       "    .dataframe tbody tr th:only-of-type {\n",
       "        vertical-align: middle;\n",
       "    }\n",
       "\n",
       "    .dataframe tbody tr th {\n",
       "        vertical-align: top;\n",
       "    }\n",
       "\n",
       "    .dataframe thead th {\n",
       "        text-align: right;\n",
       "    }\n",
       "</style>\n",
       "<table border=\"1\" class=\"dataframe\">\n",
       "  <thead>\n",
       "    <tr style=\"text-align: right;\">\n",
       "      <th></th>\n",
       "      <th>username</th>\n",
       "      <th>hours</th>\n",
       "      <th>product_id</th>\n",
       "      <th>usernameid</th>\n",
       "      <th>Ranking</th>\n",
       "    </tr>\n",
       "  </thead>\n",
       "  <tbody>\n",
       "    <tr>\n",
       "      <th>1</th>\n",
       "      <td>Ariman1</td>\n",
       "      <td>13.2</td>\n",
       "      <td>328100</td>\n",
       "      <td>2060</td>\n",
       "      <td>3</td>\n",
       "    </tr>\n",
       "    <tr>\n",
       "      <th>3</th>\n",
       "      <td>The_Cpt_FROGGY</td>\n",
       "      <td>7.8</td>\n",
       "      <td>631920</td>\n",
       "      <td>29144</td>\n",
       "      <td>3</td>\n",
       "    </tr>\n",
       "    <tr>\n",
       "      <th>6</th>\n",
       "      <td>Vonder</td>\n",
       "      <td>2.7</td>\n",
       "      <td>35600</td>\n",
       "      <td>30885</td>\n",
       "      <td>2</td>\n",
       "    </tr>\n",
       "    <tr>\n",
       "      <th>10</th>\n",
       "      <td>MrNinjaSquirrel</td>\n",
       "      <td>1.2</td>\n",
       "      <td>288690</td>\n",
       "      <td>19328</td>\n",
       "      <td>1</td>\n",
       "    </tr>\n",
       "    <tr>\n",
       "      <th>11</th>\n",
       "      <td>Puddle</td>\n",
       "      <td>1.2</td>\n",
       "      <td>308040</td>\n",
       "      <td>22521</td>\n",
       "      <td>1</td>\n",
       "    </tr>\n",
       "    <tr>\n",
       "      <th>12</th>\n",
       "      <td>JKDarkseid</td>\n",
       "      <td>3.0</td>\n",
       "      <td>302390</td>\n",
       "      <td>13602</td>\n",
       "      <td>2</td>\n",
       "    </tr>\n",
       "    <tr>\n",
       "      <th>15</th>\n",
       "      <td>Hanzo</td>\n",
       "      <td>0.2</td>\n",
       "      <td>8880</td>\n",
       "      <td>12139</td>\n",
       "      <td>1</td>\n",
       "    </tr>\n",
       "    <tr>\n",
       "      <th>16</th>\n",
       "      <td>Harry</td>\n",
       "      <td>0.4</td>\n",
       "      <td>302390</td>\n",
       "      <td>12217</td>\n",
       "      <td>1</td>\n",
       "    </tr>\n",
       "    <tr>\n",
       "      <th>17</th>\n",
       "      <td>Erenussocrates</td>\n",
       "      <td>1.3</td>\n",
       "      <td>363520</td>\n",
       "      <td>9252</td>\n",
       "      <td>1</td>\n",
       "    </tr>\n",
       "    <tr>\n",
       "      <th>18</th>\n",
       "      <td>MLGarbage</td>\n",
       "      <td>9.5</td>\n",
       "      <td>35140</td>\n",
       "      <td>17264</td>\n",
       "      <td>3</td>\n",
       "    </tr>\n",
       "  </tbody>\n",
       "</table>\n",
       "</div>"
      ],
      "text/plain": [
       "           username  hours  product_id  usernameid  Ranking\n",
       "1           Ariman1   13.2      328100        2060        3\n",
       "3    The_Cpt_FROGGY    7.8      631920       29144        3\n",
       "6            Vonder    2.7       35600       30885        2\n",
       "10  MrNinjaSquirrel    1.2      288690       19328        1\n",
       "11           Puddle    1.2      308040       22521        1\n",
       "12       JKDarkseid    3.0      302390       13602        2\n",
       "15            Hanzo    0.2        8880       12139        1\n",
       "16            Harry    0.4      302390       12217        1\n",
       "17   Erenussocrates    1.3      363520        9252        1\n",
       "18        MLGarbage    9.5       35140       17264        3"
      ]
     },
     "execution_count": 46,
     "metadata": {},
     "output_type": "execute_result"
    }
   ],
   "source": [
    "ReviewsFiltrado1[\"Ranking\"]  = generarRanking(Dfhoras)\n",
    "ReviewsFiltrado1.head(10)"
   ]
  },
  {
   "cell_type": "code",
   "execution_count": 47,
   "metadata": {},
   "outputs": [
    {
     "name": "stdout",
     "output_type": "stream",
     "text": [
      "<class 'pandas.core.frame.DataFrame'>\n",
      "Int64Index: 212366 entries, 1 to 779305\n",
      "Data columns (total 5 columns):\n",
      " #   Column      Non-Null Count   Dtype  \n",
      "---  ------      --------------   -----  \n",
      " 0   username    212366 non-null  object \n",
      " 1   hours       212366 non-null  float64\n",
      " 2   product_id  212366 non-null  int64  \n",
      " 3   usernameid  212366 non-null  int32  \n",
      " 4   Ranking     212366 non-null  int64  \n",
      "dtypes: float64(1), int32(1), int64(2), object(1)\n",
      "memory usage: 8.9+ MB\n"
     ]
    }
   ],
   "source": [
    "ReviewsFiltrado1.info()"
   ]
  },
  {
   "cell_type": "markdown",
   "metadata": {},
   "source": [
    "### Graficas"
   ]
  },
  {
   "cell_type": "markdown",
   "metadata": {},
   "source": [
    "Con la columna de Usernameid, si hacemos la grafica, se obtiene un grafico de barras casi uniformes, esta columna si recordamos se creo como un label encoder para cambiar los nombres, por lo tanto va llevando un consecutivo."
   ]
  },
  {
   "cell_type": "code",
   "execution_count": 48,
   "metadata": {},
   "outputs": [
    {
     "data": {
      "text/plain": [
       "<seaborn.axisgrid.FacetGrid at 0x16e60aba2e0>"
      ]
     },
     "execution_count": 48,
     "metadata": {},
     "output_type": "execute_result"
    },
    {
     "data": {
      "image/png": "[encoded data removed]",
      "text/plain": [
       "<Figure size 360x360 with 1 Axes>"
      ]
     },
     "metadata": {},
     "output_type": "display_data"
    }
   ],
   "source": [
    "sns.displot(ReviewsFiltrado1['usernameid'], bins = 20) "
   ]
  },
  {
   "cell_type": "markdown",
   "metadata": {},
   "source": [
    "En la grafica de la columna horas en boxplot, se encuentra un grafico muy confuso, este atributo es flotante y esta demasiado repartido, no se encuentran los datos concentrados para hacer una grafica de este tipo, mas adelante se hará sobre la columna transformada Ranking y ahi si se puede visualizar mucho mejor."
   ]
  },
  {
   "cell_type": "code",
   "execution_count": 49,
   "metadata": {},
   "outputs": [
    {
     "data": {
      "text/plain": [
       "<AxesSubplot:ylabel='hours'>"
      ]
     },
     "execution_count": 49,
     "metadata": {},
     "output_type": "execute_result"
    },
    {
     "data": {
      "image/png": "[encoded data removed]",
      "text/plain": [
       "<Figure size 432x288 with 1 Axes>"
      ]
     },
     "metadata": {},
     "output_type": "display_data"
    }
   ],
   "source": [
    "sns.boxplot(data = ReviewsFiltrado1, y = \"hours\", color='g')"
   ]
  },
  {
   "cell_type": "code",
   "execution_count": 50,
   "metadata": {},
   "outputs": [
    {
     "data": {
      "text/plain": [
       "<seaborn.axisgrid.FacetGrid at 0x16e61812f40>"
      ]
     },
     "execution_count": 50,
     "metadata": {},
     "output_type": "execute_result"
    },
    {
     "data": {
      "image/png": "[encoded data removed]",
      "text/plain": [
       "<Figure size 360x360 with 1 Axes>"
      ]
     },
     "metadata": {},
     "output_type": "display_data"
    }
   ],
   "source": [
    "sns.displot(ReviewsFiltrado1['Ranking'], bins = 10) "
   ]
  },
  {
   "cell_type": "code",
   "execution_count": 51,
   "metadata": {},
   "outputs": [
    {
     "data": {
      "text/plain": [
       "<AxesSubplot:ylabel='Ranking'>"
      ]
     },
     "execution_count": 51,
     "metadata": {},
     "output_type": "execute_result"
    },
    {
     "data": {
      "image/png": "[encoded data removed]",
      "text/plain": [
       "<Figure size 432x288 with 1 Axes>"
      ]
     },
     "metadata": {},
     "output_type": "display_data"
    }
   ],
   "source": [
    "sns.boxplot(data = ReviewsFiltrado1, y = \"Ranking\", color='g')"
   ]
  },
  {
   "cell_type": "markdown",
   "metadata": {},
   "source": [
    "En las graficas anteriores, tanto de barras como de boxplot podemos observar como se encuentran los datos de Ranking, en el boxplot se ve la mayor concentración entre 2 y 4. "
   ]
  },
  {
   "cell_type": "markdown",
   "metadata": {},
   "source": [
    "## 3. ENTRENAMIENTO\n",
    "\n",
    "###    A. Dataset y Train/test split"
   ]
  },
  {
   "cell_type": "markdown",
   "metadata": {},
   "source": [
    "Primero, se debe llevar el dataset al formato que le gusta a la biblioteca Surprise, para esto se utiliza el Reader()."
   ]
  },
  {
   "cell_type": "code",
   "execution_count": 52,
   "metadata": {},
   "outputs": [
    {
     "data": {
      "text/plain": [
       "(212366, 5)"
      ]
     },
     "execution_count": 52,
     "metadata": {},
     "output_type": "execute_result"
    }
   ],
   "source": [
    "ReviewsFiltrado1.shape"
   ]
  },
  {
   "cell_type": "code",
   "execution_count": 53,
   "metadata": {},
   "outputs": [],
   "source": [
    "reader1 = Reader()\n",
    "N_filas = 212366 # Con esta instrucción se podria filtrar el dataset N_filas, pero se toma todo en la ultima ejecución\n",
    "\n",
    "data1 = Dataset.load_from_df(ReviewsFiltrado1[['usernameid', 'product_id', 'Ranking']][:N_filas], reader1)\n",
    "trainset, testset = train_test_split(data1, test_size=.25)"
   ]
  },
  {
   "cell_type": "markdown",
   "metadata": {},
   "source": [
    "### B. Modelo SVD\n",
    "Es un algoritmo basado en Matrix Factorization, popularizado en Netflix prize.\n",
    "\n",
    "**MODELO BENCHMARK**"
   ]
  },
  {
   "cell_type": "code",
   "execution_count": 54,
   "metadata": {},
   "outputs": [
    {
     "data": {
      "text/plain": [
       "<surprise.dataset.DatasetAutoFolds at 0x16e60a8feb0>"
      ]
     },
     "execution_count": 54,
     "metadata": {},
     "output_type": "execute_result"
    }
   ],
   "source": [
    "data1"
   ]
  },
  {
   "cell_type": "code",
   "execution_count": 55,
   "metadata": {},
   "outputs": [],
   "source": [
    "from surprise import SVD\n",
    "svdJuegos = SVD(random_state=42)"
   ]
  },
  {
   "cell_type": "code",
   "execution_count": 56,
   "metadata": {},
   "outputs": [
    {
     "data": {
      "text/plain": [
       "<surprise.prediction_algorithms.matrix_factorization.SVD at 0x16e5f802220>"
      ]
     },
     "execution_count": 56,
     "metadata": {},
     "output_type": "execute_result"
    }
   ],
   "source": [
    "svdJuegos.fit(trainset)"
   ]
  },
  {
   "cell_type": "code",
   "execution_count": 57,
   "metadata": {},
   "outputs": [],
   "source": [
    "predictions2 = svdJuegos.test(testset)"
   ]
  },
  {
   "cell_type": "markdown",
   "metadata": {},
   "source": [
    "### C. Validación de predicciones"
   ]
  },
  {
   "cell_type": "code",
   "execution_count": 58,
   "metadata": {},
   "outputs": [
    {
     "data": {
      "text/plain": [
       "Prediction(uid=13662, iid=282070, r_ui=4.0, est=3.009728887423802, details={'was_impossible': False})"
      ]
     },
     "execution_count": 58,
     "metadata": {},
     "output_type": "execute_result"
    }
   ],
   "source": [
    "predictions2[1]"
   ]
  },
  {
   "cell_type": "markdown",
   "metadata": {},
   "source": [
    "Para buscar la predicción de un usuario en particular hacia un juego, por ejemplo: el usuario **347** con el juego **761140 - Lost Summoner Kitty**, seria de la siguiente forma:\n"
   ]
  },
  {
   "cell_type": "code",
   "execution_count": 59,
   "metadata": {},
   "outputs": [
    {
     "data": {
      "text/plain": [
       "Prediction(uid=347, iid=761140, r_ui=None, est=3.0367659219067136, details={'was_impossible': False})"
      ]
     },
     "execution_count": 59,
     "metadata": {},
     "output_type": "execute_result"
    }
   ],
   "source": [
    "svdJuegos.predict(347,761140)"
   ]
  },
  {
   "cell_type": "markdown",
   "metadata": {},
   "source": [
    "Como vemos, este sistema ya esta realizando las predicciones, donde estima 3.0, es el puntaje estimado que tendria la matriz de recomendación para el juego 761140 - Lost Summoner Kitty para el usuario 347.\n",
    "\n",
    "Si probamos otro como el juego **48700 - Mount & Blade: Warband**, veamos cual es el valor que predice de recomendación."
   ]
  },
  {
   "cell_type": "code",
   "execution_count": 60,
   "metadata": {},
   "outputs": [
    {
     "data": {
      "text/plain": [
       "Prediction(uid=347, iid=48700, r_ui=None, est=4.691369167757578, details={'was_impossible': False})"
      ]
     },
     "execution_count": 60,
     "metadata": {},
     "output_type": "execute_result"
    }
   ],
   "source": [
    "svdJuegos.predict(347,48700)"
   ]
  },
  {
   "cell_type": "markdown",
   "metadata": {},
   "source": [
    "donde estima 4.4, es el puntaje estimado que tendria la matriz de recomendación para el juego \"48700 - Mount & Blade: Warband\" para el usuario 347, este puntaje es más alto que el anterior."
   ]
  },
  {
   "cell_type": "code",
   "execution_count": 61,
   "metadata": {},
   "outputs": [],
   "source": [
    "#ReviewsFiltrado1[ReviewsFiltrado1.username=='123']"
   ]
  },
  {
   "cell_type": "markdown",
   "metadata": {},
   "source": [
    "### D. Recomendaciones a Usuario\n",
    "\n",
    "Se selecciona un usuario al cual recomendar, se identifican los juegos vistos por dicho usuario, paso seguido se identifican los juegos que no ha visto de todo el dataset de Juegos y se aplica predicción para todos los juegos no vistos de forma de calcular el Score Estimado y basado en este score identificar el top 10 para hacerle las recomendaciones al usuario."
   ]
  },
  {
   "cell_type": "code",
   "execution_count": 62,
   "metadata": {},
   "outputs": [],
   "source": [
    "#usuario = 347 - El que mas ha jugado\n",
    "usuario = 14079  #Jerry\n",
    "rating = 5   # le pedimos peliculas a las que haya puesto 4 o 5 estrellas\n",
    "df_user = ReviewsFiltrado1[(ReviewsFiltrado1['usernameid'] == usuario) & (ReviewsFiltrado1['Ranking'] >= rating)]"
   ]
  },
  {
   "cell_type": "code",
   "execution_count": 63,
   "metadata": {},
   "outputs": [
    {
     "data": {
      "text/html": [
       "<div>\n",
       "<style scoped>\n",
       "    .dataframe tbody tr th:only-of-type {\n",
       "        vertical-align: middle;\n",
       "    }\n",
       "\n",
       "    .dataframe tbody tr th {\n",
       "        vertical-align: top;\n",
       "    }\n",
       "\n",
       "    .dataframe thead th {\n",
       "        text-align: right;\n",
       "    }\n",
       "</style>\n",
       "<table border=\"1\" class=\"dataframe\">\n",
       "  <thead>\n",
       "    <tr style=\"text-align: right;\">\n",
       "      <th></th>\n",
       "      <th>username</th>\n",
       "      <th>hours</th>\n",
       "      <th>product_id</th>\n",
       "      <th>usernameid</th>\n",
       "      <th>Ranking</th>\n",
       "    </tr>\n",
       "  </thead>\n",
       "  <tbody>\n",
       "    <tr>\n",
       "      <th>226091</th>\n",
       "      <td>Jerry</td>\n",
       "      <td>67.5</td>\n",
       "      <td>550650</td>\n",
       "      <td>14079</td>\n",
       "      <td>5</td>\n",
       "    </tr>\n",
       "    <tr>\n",
       "      <th>227526</th>\n",
       "      <td>Jerry</td>\n",
       "      <td>191.0</td>\n",
       "      <td>99900</td>\n",
       "      <td>14079</td>\n",
       "      <td>5</td>\n",
       "    </tr>\n",
       "    <tr>\n",
       "      <th>251701</th>\n",
       "      <td>Jerry</td>\n",
       "      <td>62.6</td>\n",
       "      <td>218680</td>\n",
       "      <td>14079</td>\n",
       "      <td>5</td>\n",
       "    </tr>\n",
       "    <tr>\n",
       "      <th>253613</th>\n",
       "      <td>Jerry</td>\n",
       "      <td>80.5</td>\n",
       "      <td>265610</td>\n",
       "      <td>14079</td>\n",
       "      <td>5</td>\n",
       "    </tr>\n",
       "    <tr>\n",
       "      <th>389759</th>\n",
       "      <td>Jerry</td>\n",
       "      <td>636.6</td>\n",
       "      <td>440</td>\n",
       "      <td>14079</td>\n",
       "      <td>5</td>\n",
       "    </tr>\n",
       "    <tr>\n",
       "      <th>393615</th>\n",
       "      <td>Jerry</td>\n",
       "      <td>374.1</td>\n",
       "      <td>440</td>\n",
       "      <td>14079</td>\n",
       "      <td>5</td>\n",
       "    </tr>\n",
       "    <tr>\n",
       "      <th>498697</th>\n",
       "      <td>Jerry</td>\n",
       "      <td>191.2</td>\n",
       "      <td>244450</td>\n",
       "      <td>14079</td>\n",
       "      <td>5</td>\n",
       "    </tr>\n",
       "    <tr>\n",
       "      <th>657661</th>\n",
       "      <td>Jerry</td>\n",
       "      <td>306.7</td>\n",
       "      <td>8930</td>\n",
       "      <td>14079</td>\n",
       "      <td>5</td>\n",
       "    </tr>\n",
       "    <tr>\n",
       "      <th>740676</th>\n",
       "      <td>Jerry</td>\n",
       "      <td>123.4</td>\n",
       "      <td>227300</td>\n",
       "      <td>14079</td>\n",
       "      <td>5</td>\n",
       "    </tr>\n",
       "    <tr>\n",
       "      <th>779305</th>\n",
       "      <td>Jerry</td>\n",
       "      <td>139.8</td>\n",
       "      <td>252490</td>\n",
       "      <td>14079</td>\n",
       "      <td>5</td>\n",
       "    </tr>\n",
       "  </tbody>\n",
       "</table>\n",
       "</div>"
      ],
      "text/plain": [
       "       username  hours  product_id  usernameid  Ranking\n",
       "226091    Jerry   67.5      550650       14079        5\n",
       "227526    Jerry  191.0       99900       14079        5\n",
       "251701    Jerry   62.6      218680       14079        5\n",
       "253613    Jerry   80.5      265610       14079        5\n",
       "389759    Jerry  636.6         440       14079        5\n",
       "393615    Jerry  374.1         440       14079        5\n",
       "498697    Jerry  191.2      244450       14079        5\n",
       "657661    Jerry  306.7        8930       14079        5\n",
       "740676    Jerry  123.4      227300       14079        5\n",
       "779305    Jerry  139.8      252490       14079        5"
      ]
     },
     "execution_count": 63,
     "metadata": {},
     "output_type": "execute_result"
    }
   ],
   "source": [
    "df_user"
   ]
  },
  {
   "cell_type": "code",
   "execution_count": 64,
   "metadata": {},
   "outputs": [
    {
     "data": {
      "text/plain": [
       "226091    550650\n",
       "227526     99900\n",
       "251701    218680\n",
       "253613    265610\n",
       "389759       440\n",
       "393615       440\n",
       "498697    244450\n",
       "657661      8930\n",
       "740676    227300\n",
       "779305    252490\n",
       "Name: product_id, dtype: int64"
      ]
     },
     "execution_count": 64,
     "metadata": {},
     "output_type": "execute_result"
    }
   ],
   "source": [
    "df_user.product_id"
   ]
  },
  {
   "cell_type": "code",
   "execution_count": 65,
   "metadata": {},
   "outputs": [
    {
     "data": {
      "text/html": [
       "<div>\n",
       "<style scoped>\n",
       "    .dataframe tbody tr th:only-of-type {\n",
       "        vertical-align: middle;\n",
       "    }\n",
       "\n",
       "    .dataframe tbody tr th {\n",
       "        vertical-align: top;\n",
       "    }\n",
       "\n",
       "    .dataframe thead th {\n",
       "        text-align: right;\n",
       "    }\n",
       "</style>\n",
       "<table border=\"1\" class=\"dataframe\">\n",
       "  <thead>\n",
       "    <tr style=\"text-align: right;\">\n",
       "      <th></th>\n",
       "      <th>id</th>\n",
       "      <th>app_name</th>\n",
       "    </tr>\n",
       "  </thead>\n",
       "  <tbody>\n",
       "    <tr>\n",
       "      <th>2834</th>\n",
       "      <td>328100</td>\n",
       "      <td>Gunspell - Steam Edition</td>\n",
       "    </tr>\n",
       "  </tbody>\n",
       "</table>\n",
       "</div>"
      ],
      "text/plain": [
       "          id                  app_name\n",
       "2834  328100  Gunspell - Steam Edition"
      ]
     },
     "execution_count": 65,
     "metadata": {},
     "output_type": "execute_result"
    }
   ],
   "source": [
    "GamesFiltrado[GamesFiltrado.id==328100]"
   ]
  },
  {
   "cell_type": "code",
   "execution_count": 66,
   "metadata": {},
   "outputs": [
    {
     "data": {
      "text/html": [
       "<div>\n",
       "<style scoped>\n",
       "    .dataframe tbody tr th:only-of-type {\n",
       "        vertical-align: middle;\n",
       "    }\n",
       "\n",
       "    .dataframe tbody tr th {\n",
       "        vertical-align: top;\n",
       "    }\n",
       "\n",
       "    .dataframe thead th {\n",
       "        text-align: right;\n",
       "    }\n",
       "</style>\n",
       "<table border=\"1\" class=\"dataframe\">\n",
       "  <thead>\n",
       "    <tr style=\"text-align: right;\">\n",
       "      <th></th>\n",
       "      <th>id</th>\n",
       "      <th>app_name</th>\n",
       "    </tr>\n",
       "  </thead>\n",
       "  <tbody>\n",
       "    <tr>\n",
       "      <th>0</th>\n",
       "      <td>761140</td>\n",
       "      <td>Lost Summoner Kitty</td>\n",
       "    </tr>\n",
       "    <tr>\n",
       "      <th>1</th>\n",
       "      <td>643980</td>\n",
       "      <td>Ironbound</td>\n",
       "    </tr>\n",
       "    <tr>\n",
       "      <th>2</th>\n",
       "      <td>670290</td>\n",
       "      <td>Real Pool 3D - Poolians</td>\n",
       "    </tr>\n",
       "    <tr>\n",
       "      <th>3</th>\n",
       "      <td>767400</td>\n",
       "      <td>弹炸人2222</td>\n",
       "    </tr>\n",
       "    <tr>\n",
       "      <th>4</th>\n",
       "      <td>773570</td>\n",
       "      <td>Log Challenge</td>\n",
       "    </tr>\n",
       "    <tr>\n",
       "      <th>...</th>\n",
       "      <td>...</td>\n",
       "      <td>...</td>\n",
       "    </tr>\n",
       "    <tr>\n",
       "      <th>32130</th>\n",
       "      <td>773640</td>\n",
       "      <td>Colony On Mars</td>\n",
       "    </tr>\n",
       "    <tr>\n",
       "      <th>32131</th>\n",
       "      <td>733530</td>\n",
       "      <td>LOGistICAL: South Africa</td>\n",
       "    </tr>\n",
       "    <tr>\n",
       "      <th>32132</th>\n",
       "      <td>610660</td>\n",
       "      <td>Russian Roads</td>\n",
       "    </tr>\n",
       "    <tr>\n",
       "      <th>32133</th>\n",
       "      <td>658870</td>\n",
       "      <td>EXIT 2 - Directions</td>\n",
       "    </tr>\n",
       "    <tr>\n",
       "      <th>32134</th>\n",
       "      <td>681550</td>\n",
       "      <td>Maze Run VR</td>\n",
       "    </tr>\n",
       "  </tbody>\n",
       "</table>\n",
       "<p>32132 rows × 2 columns</p>\n",
       "</div>"
      ],
      "text/plain": [
       "           id                  app_name\n",
       "0      761140       Lost Summoner Kitty\n",
       "1      643980                 Ironbound\n",
       "2      670290   Real Pool 3D - Poolians\n",
       "3      767400                   弹炸人2222\n",
       "4      773570             Log Challenge\n",
       "...       ...                       ...\n",
       "32130  773640            Colony On Mars\n",
       "32131  733530  LOGistICAL: South Africa\n",
       "32132  610660             Russian Roads\n",
       "32133  658870       EXIT 2 - Directions\n",
       "32134  681550               Maze Run VR\n",
       "\n",
       "[32132 rows x 2 columns]"
      ]
     },
     "execution_count": 66,
     "metadata": {},
     "output_type": "execute_result"
    }
   ],
   "source": [
    "GamesFiltrado"
   ]
  },
  {
   "cell_type": "markdown",
   "metadata": {},
   "source": [
    "En el dataset df_user, tengo algunos de los resultados del usuario seleccionado donde tiene el ranking mayor a 5 y cuales Juegos ha utilizado con su puntaje basado en la cantidad de horas jugadas. \n",
    "\n",
    "Ahora, de acuerdo al conocimiento de Él y otros usuarios, en lo que se basan los sistemas de recomendación de filtro colaborativo, se partirá a obtener en otro dataset cuales son los juegos que se le podrian recomendar a dicho usuario."
   ]
  },
  {
   "cell_type": "code",
   "execution_count": 67,
   "metadata": {},
   "outputs": [
    {
     "name": "stdout",
     "output_type": "stream",
     "text": [
      "(30, 5)\n"
     ]
    },
    {
     "data": {
      "text/html": [
       "<div>\n",
       "<style scoped>\n",
       "    .dataframe tbody tr th:only-of-type {\n",
       "        vertical-align: middle;\n",
       "    }\n",
       "\n",
       "    .dataframe tbody tr th {\n",
       "        vertical-align: top;\n",
       "    }\n",
       "\n",
       "    .dataframe thead th {\n",
       "        text-align: right;\n",
       "    }\n",
       "</style>\n",
       "<table border=\"1\" class=\"dataframe\">\n",
       "  <thead>\n",
       "    <tr style=\"text-align: right;\">\n",
       "      <th></th>\n",
       "      <th>username</th>\n",
       "      <th>hours</th>\n",
       "      <th>product_id</th>\n",
       "      <th>usernameid</th>\n",
       "      <th>Ranking</th>\n",
       "    </tr>\n",
       "  </thead>\n",
       "  <tbody>\n",
       "    <tr>\n",
       "      <th>44904</th>\n",
       "      <td>Jerry</td>\n",
       "      <td>3.0</td>\n",
       "      <td>263680</td>\n",
       "      <td>14079</td>\n",
       "      <td>2</td>\n",
       "    </tr>\n",
       "    <tr>\n",
       "      <th>72185</th>\n",
       "      <td>Jerry</td>\n",
       "      <td>35.7</td>\n",
       "      <td>220240</td>\n",
       "      <td>14079</td>\n",
       "      <td>4</td>\n",
       "    </tr>\n",
       "    <tr>\n",
       "      <th>88766</th>\n",
       "      <td>Jerry</td>\n",
       "      <td>11.0</td>\n",
       "      <td>265550</td>\n",
       "      <td>14079</td>\n",
       "      <td>3</td>\n",
       "    </tr>\n",
       "    <tr>\n",
       "      <th>91012</th>\n",
       "      <td>Jerry</td>\n",
       "      <td>1.7</td>\n",
       "      <td>39190</td>\n",
       "      <td>14079</td>\n",
       "      <td>1</td>\n",
       "    </tr>\n",
       "    <tr>\n",
       "      <th>99359</th>\n",
       "      <td>Jerry</td>\n",
       "      <td>0.4</td>\n",
       "      <td>454890</td>\n",
       "      <td>14079</td>\n",
       "      <td>1</td>\n",
       "    </tr>\n",
       "  </tbody>\n",
       "</table>\n",
       "</div>"
      ],
      "text/plain": [
       "      username  hours  product_id  usernameid  Ranking\n",
       "44904    Jerry    3.0      263680       14079        2\n",
       "72185    Jerry   35.7      220240       14079        4\n",
       "88766    Jerry   11.0      265550       14079        3\n",
       "91012    Jerry    1.7       39190       14079        1\n",
       "99359    Jerry    0.4      454890       14079        1"
      ]
     },
     "execution_count": 67,
     "metadata": {},
     "output_type": "execute_result"
    }
   ],
   "source": [
    "usuario_vistas = ReviewsFiltrado1[ReviewsFiltrado1['usernameid'] == usuario]\n",
    "print(usuario_vistas.shape)\n",
    "usuario_vistas.head()"
   ]
  },
  {
   "cell_type": "markdown",
   "metadata": {},
   "source": [
    "En el dataset anterior, usuario_vistas, ya nos quedan todos los videojuegos jugados por el usuario seleccionado, ahora se revisara el listado de todos los videojuegos que tenemos para luego excluir los que ya ha visto el usuario al cual le voy a dar recomendaciones."
   ]
  },
  {
   "cell_type": "code",
   "execution_count": 68,
   "metadata": {},
   "outputs": [
    {
     "data": {
      "text/html": [
       "<div>\n",
       "<style scoped>\n",
       "    .dataframe tbody tr th:only-of-type {\n",
       "        vertical-align: middle;\n",
       "    }\n",
       "\n",
       "    .dataframe tbody tr th {\n",
       "        vertical-align: top;\n",
       "    }\n",
       "\n",
       "    .dataframe thead th {\n",
       "        text-align: right;\n",
       "    }\n",
       "</style>\n",
       "<table border=\"1\" class=\"dataframe\">\n",
       "  <thead>\n",
       "    <tr style=\"text-align: right;\">\n",
       "      <th></th>\n",
       "      <th>id</th>\n",
       "      <th>app_name</th>\n",
       "    </tr>\n",
       "  </thead>\n",
       "  <tbody>\n",
       "    <tr>\n",
       "      <th>0</th>\n",
       "      <td>761140</td>\n",
       "      <td>Lost Summoner Kitty</td>\n",
       "    </tr>\n",
       "    <tr>\n",
       "      <th>1</th>\n",
       "      <td>643980</td>\n",
       "      <td>Ironbound</td>\n",
       "    </tr>\n",
       "    <tr>\n",
       "      <th>2</th>\n",
       "      <td>670290</td>\n",
       "      <td>Real Pool 3D - Poolians</td>\n",
       "    </tr>\n",
       "    <tr>\n",
       "      <th>3</th>\n",
       "      <td>767400</td>\n",
       "      <td>弹炸人2222</td>\n",
       "    </tr>\n",
       "    <tr>\n",
       "      <th>4</th>\n",
       "      <td>773570</td>\n",
       "      <td>Log Challenge</td>\n",
       "    </tr>\n",
       "    <tr>\n",
       "      <th>...</th>\n",
       "      <td>...</td>\n",
       "      <td>...</td>\n",
       "    </tr>\n",
       "    <tr>\n",
       "      <th>32130</th>\n",
       "      <td>773640</td>\n",
       "      <td>Colony On Mars</td>\n",
       "    </tr>\n",
       "    <tr>\n",
       "      <th>32131</th>\n",
       "      <td>733530</td>\n",
       "      <td>LOGistICAL: South Africa</td>\n",
       "    </tr>\n",
       "    <tr>\n",
       "      <th>32132</th>\n",
       "      <td>610660</td>\n",
       "      <td>Russian Roads</td>\n",
       "    </tr>\n",
       "    <tr>\n",
       "      <th>32133</th>\n",
       "      <td>658870</td>\n",
       "      <td>EXIT 2 - Directions</td>\n",
       "    </tr>\n",
       "    <tr>\n",
       "      <th>32134</th>\n",
       "      <td>681550</td>\n",
       "      <td>Maze Run VR</td>\n",
       "    </tr>\n",
       "  </tbody>\n",
       "</table>\n",
       "<p>32132 rows × 2 columns</p>\n",
       "</div>"
      ],
      "text/plain": [
       "           id                  app_name\n",
       "0      761140       Lost Summoner Kitty\n",
       "1      643980                 Ironbound\n",
       "2      670290   Real Pool 3D - Poolians\n",
       "3      767400                   弹炸人2222\n",
       "4      773570             Log Challenge\n",
       "...       ...                       ...\n",
       "32130  773640            Colony On Mars\n",
       "32131  733530  LOGistICAL: South Africa\n",
       "32132  610660             Russian Roads\n",
       "32133  658870       EXIT 2 - Directions\n",
       "32134  681550               Maze Run VR\n",
       "\n",
       "[32132 rows x 2 columns]"
      ]
     },
     "execution_count": 68,
     "metadata": {},
     "output_type": "execute_result"
    }
   ],
   "source": [
    "JuegosRespaldo"
   ]
  },
  {
   "cell_type": "markdown",
   "metadata": {},
   "source": [
    "Debo extraer cuales son los juegos que mi usuario al cual le quiero entregar una recomendación no ha jugado, basandonos en que no ha tenido reviews sobre ellos."
   ]
  },
  {
   "cell_type": "code",
   "execution_count": 69,
   "metadata": {},
   "outputs": [],
   "source": [
    "#Extraigo en un dataFrame los Juegos que el usuario ha visto.\n",
    "JuegosVistosSoloProducto = usuario_vistas.product_id"
   ]
  },
  {
   "cell_type": "code",
   "execution_count": 70,
   "metadata": {},
   "outputs": [],
   "source": [
    "JuegosUnicos = JuegosVistosSoloProducto.drop_duplicates()"
   ]
  },
  {
   "cell_type": "code",
   "execution_count": 71,
   "metadata": {},
   "outputs": [
    {
     "data": {
      "text/plain": [
       "(28,)"
      ]
     },
     "execution_count": 71,
     "metadata": {},
     "output_type": "execute_result"
    }
   ],
   "source": [
    "JuegosUnicos.shape"
   ]
  },
  {
   "cell_type": "markdown",
   "metadata": {},
   "source": [
    "Existen 28 juegos que el usuario ha jugado de la lista de juegos, ahora debemos extraer en otro Dataset los que no ha visto de todo el grupo de juegos restantes para a ellos mirarlse su predicción y darle al usuario las recomendaciones"
   ]
  },
  {
   "cell_type": "code",
   "execution_count": 72,
   "metadata": {},
   "outputs": [],
   "source": [
    "#JuegosRespaldo.merge(JuegosUnicos, how='inner', on='a')\n",
    "prueba = JuegosRespaldo.copy()\n",
    "#Merge left de todos los juegos con los juegos vistos por el usuario, los que en product_id quedan con Nulos son los que no vio.\n",
    "prueba2 = prueba.merge(JuegosUnicos, how='left', left_on='id', right_on='product_id')"
   ]
  },
  {
   "cell_type": "code",
   "execution_count": 73,
   "metadata": {},
   "outputs": [
    {
     "data": {
      "text/html": [
       "<div>\n",
       "<style scoped>\n",
       "    .dataframe tbody tr th:only-of-type {\n",
       "        vertical-align: middle;\n",
       "    }\n",
       "\n",
       "    .dataframe tbody tr th {\n",
       "        vertical-align: top;\n",
       "    }\n",
       "\n",
       "    .dataframe thead th {\n",
       "        text-align: right;\n",
       "    }\n",
       "</style>\n",
       "<table border=\"1\" class=\"dataframe\">\n",
       "  <thead>\n",
       "    <tr style=\"text-align: right;\">\n",
       "      <th></th>\n",
       "      <th>id</th>\n",
       "      <th>app_name</th>\n",
       "      <th>product_id</th>\n",
       "    </tr>\n",
       "  </thead>\n",
       "  <tbody>\n",
       "    <tr>\n",
       "      <th>0</th>\n",
       "      <td>761140</td>\n",
       "      <td>Lost Summoner Kitty</td>\n",
       "      <td>NaN</td>\n",
       "    </tr>\n",
       "    <tr>\n",
       "      <th>1</th>\n",
       "      <td>643980</td>\n",
       "      <td>Ironbound</td>\n",
       "      <td>NaN</td>\n",
       "    </tr>\n",
       "    <tr>\n",
       "      <th>2</th>\n",
       "      <td>670290</td>\n",
       "      <td>Real Pool 3D - Poolians</td>\n",
       "      <td>NaN</td>\n",
       "    </tr>\n",
       "    <tr>\n",
       "      <th>3</th>\n",
       "      <td>767400</td>\n",
       "      <td>弹炸人2222</td>\n",
       "      <td>NaN</td>\n",
       "    </tr>\n",
       "    <tr>\n",
       "      <th>4</th>\n",
       "      <td>773570</td>\n",
       "      <td>Log Challenge</td>\n",
       "      <td>NaN</td>\n",
       "    </tr>\n",
       "    <tr>\n",
       "      <th>...</th>\n",
       "      <td>...</td>\n",
       "      <td>...</td>\n",
       "      <td>...</td>\n",
       "    </tr>\n",
       "    <tr>\n",
       "      <th>32127</th>\n",
       "      <td>773640</td>\n",
       "      <td>Colony On Mars</td>\n",
       "      <td>NaN</td>\n",
       "    </tr>\n",
       "    <tr>\n",
       "      <th>32128</th>\n",
       "      <td>733530</td>\n",
       "      <td>LOGistICAL: South Africa</td>\n",
       "      <td>NaN</td>\n",
       "    </tr>\n",
       "    <tr>\n",
       "      <th>32129</th>\n",
       "      <td>610660</td>\n",
       "      <td>Russian Roads</td>\n",
       "      <td>NaN</td>\n",
       "    </tr>\n",
       "    <tr>\n",
       "      <th>32130</th>\n",
       "      <td>658870</td>\n",
       "      <td>EXIT 2 - Directions</td>\n",
       "      <td>NaN</td>\n",
       "    </tr>\n",
       "    <tr>\n",
       "      <th>32131</th>\n",
       "      <td>681550</td>\n",
       "      <td>Maze Run VR</td>\n",
       "      <td>NaN</td>\n",
       "    </tr>\n",
       "  </tbody>\n",
       "</table>\n",
       "<p>32104 rows × 3 columns</p>\n",
       "</div>"
      ],
      "text/plain": [
       "           id                  app_name  product_id\n",
       "0      761140       Lost Summoner Kitty         NaN\n",
       "1      643980                 Ironbound         NaN\n",
       "2      670290   Real Pool 3D - Poolians         NaN\n",
       "3      767400                   弹炸人2222         NaN\n",
       "4      773570             Log Challenge         NaN\n",
       "...       ...                       ...         ...\n",
       "32127  773640            Colony On Mars         NaN\n",
       "32128  733530  LOGistICAL: South Africa         NaN\n",
       "32129  610660             Russian Roads         NaN\n",
       "32130  658870       EXIT 2 - Directions         NaN\n",
       "32131  681550               Maze Run VR         NaN\n",
       "\n",
       "[32104 rows x 3 columns]"
      ]
     },
     "execution_count": 73,
     "metadata": {},
     "output_type": "execute_result"
    }
   ],
   "source": [
    "JuegosNoVistos = prueba2[prueba2.product_id.isnull()]\n",
    "JuegosNoVistos"
   ]
  },
  {
   "cell_type": "markdown",
   "metadata": {},
   "source": [
    "En la siguiente instrucción se obtienen todas las predicciones para estos videojuegos que no se han jugado por el usuario escogido."
   ]
  },
  {
   "cell_type": "code",
   "execution_count": 74,
   "metadata": {},
   "outputs": [
    {
     "name": "stderr",
     "output_type": "stream",
     "text": [
      "<ipython-input-74-103eb994968b>:1: SettingWithCopyWarning: \n",
      "A value is trying to be set on a copy of a slice from a DataFrame.\n",
      "Try using .loc[row_indexer,col_indexer] = value instead\n",
      "\n",
      "See the caveats in the documentation: https://pandas.pydata.org/pandas-docs/stable/user_guide/indexing.html#returning-a-view-versus-a-copy\n",
      "  JuegosNoVistos['Estimate_Score'] = JuegosNoVistos['id'].apply(lambda x: svdJuegos.predict(usuario, x).est)\n"
     ]
    }
   ],
   "source": [
    "JuegosNoVistos['Estimate_Score'] = JuegosNoVistos['id'].apply(lambda x: svdJuegos.predict(usuario, x).est)"
   ]
  },
  {
   "cell_type": "code",
   "execution_count": 75,
   "metadata": {},
   "outputs": [
    {
     "name": "stdout",
     "output_type": "stream",
     "text": [
      "           id                  app_name  product_id  Estimate_Score\n",
      "58       4000               Garry's Mod         NaN        5.000000\n",
      "22842  394360         Hearts of Iron IV         NaN        5.000000\n",
      "30006  107410                    Arma 3         NaN        5.000000\n",
      "29680  221100                      DayZ         NaN        4.921842\n",
      "25015  377160                 Fallout 4         NaN        4.917819\n",
      "387     48700    Mount & Blade: Warband         NaN        4.896218\n",
      "26953  271590        Grand Theft Auto V         NaN        4.872475\n",
      "15616  435150  Divinity: Original Sin 2         NaN        4.842467\n",
      "23230  281990                 Stellaris         NaN        4.813451\n",
      "7849   482730     Football Manager 2017         NaN        4.787490\n"
     ]
    }
   ],
   "source": [
    "JuegosNoVistos = JuegosNoVistos.sort_values('Estimate_Score', ascending=False)\n",
    "print(JuegosNoVistos.head(10))"
   ]
  },
  {
   "cell_type": "markdown",
   "metadata": {},
   "source": [
    "En el resultado anterior, nos damos cuenta de las 10 primeras recomendaciones que le daria nuestro sistema de recomendación al usuario de nombre Jerry, con usernameid 14079. \n",
    "\n"
   ]
  },
  {
   "cell_type": "markdown",
   "metadata": {},
   "source": [
    "## 4. EVALUACIÓN\n",
    "\n",
    "Para el conjunto de testset, evaluamos el error RMSE entre las predicciones y las verdaderas calificaciones que le habían dado a los juegos."
   ]
  },
  {
   "cell_type": "code",
   "execution_count": 76,
   "metadata": {},
   "outputs": [
    {
     "name": "stdout",
     "output_type": "stream",
     "text": [
      "RMSE: 1.1144\n"
     ]
    },
    {
     "data": {
      "text/plain": [
       "1.1143968637223256"
      ]
     },
     "execution_count": 76,
     "metadata": {},
     "output_type": "execute_result"
    }
   ],
   "source": [
    "from surprise import accuracy\n",
    "\n",
    "accuracy.rmse(predictions2)"
   ]
  },
  {
   "cell_type": "markdown",
   "metadata": {},
   "source": [
    "## 5. OPTIMIZACIÓN DE PARÁMETROS\n",
    "\n",
    "### A. VALIDACIÓN CRUZADA\n",
    "\n",
    "Haciendo un gráfico del desempeño del modelo en función del número de factores del `SVD`"
   ]
  },
  {
   "cell_type": "code",
   "execution_count": 77,
   "metadata": {},
   "outputs": [
    {
     "name": "stdout",
     "output_type": "stream",
     "text": [
      "\n",
      "Número de Factores: 2\n",
      "Evaluating RMSE of algorithm SVD on 3 split(s).\n",
      "\n",
      "                  Fold 1  Fold 2  Fold 3  Mean    Std     \n",
      "RMSE (testset)    1.1209  1.1210  1.1185  1.1202  0.0011  \n",
      "Fit time          6.90    6.61    6.56    6.69    0.15    \n",
      "Test time         0.53    0.50    0.52    0.52    0.01    \n",
      "\n",
      "Número de Factores: 4\n",
      "Evaluating RMSE of algorithm SVD on 3 split(s).\n",
      "\n",
      "                  Fold 1  Fold 2  Fold 3  Mean    Std     \n",
      "RMSE (testset)    1.1175  1.1166  1.1263  1.1201  0.0044  \n",
      "Fit time          6.31    6.24    6.45    6.33    0.09    \n",
      "Test time         0.50    0.51    0.51    0.51    0.01    \n",
      "\n",
      "Número de Factores: 5\n",
      "Evaluating RMSE of algorithm SVD on 3 split(s).\n",
      "\n",
      "                  Fold 1  Fold 2  Fold 3  Mean    Std     \n",
      "RMSE (testset)    1.1204  1.1206  1.1203  1.1205  0.0001  \n",
      "Fit time          6.45    6.42    6.47    6.45    0.02    \n",
      "Test time         0.41    0.52    0.51    0.48    0.05    \n",
      "\n",
      "Número de Factores: 6\n",
      "Evaluating RMSE of algorithm SVD on 3 split(s).\n",
      "\n",
      "                  Fold 1  Fold 2  Fold 3  Mean    Std     \n",
      "RMSE (testset)    1.1182  1.1238  1.1188  1.1202  0.0025  \n",
      "Fit time          6.33    6.24    6.28    6.28    0.03    \n",
      "Test time         0.50    0.51    0.50    0.50    0.01    \n",
      "\n",
      "Número de Factores: 8\n",
      "Evaluating RMSE of algorithm SVD on 3 split(s).\n",
      "\n",
      "                  Fold 1  Fold 2  Fold 3  Mean    Std     \n",
      "RMSE (testset)    1.1213  1.1180  1.1194  1.1196  0.0013  \n",
      "Fit time          6.24    6.18    6.37    6.26    0.08    \n",
      "Test time         0.51    0.39    0.51    0.47    0.06    \n",
      "\n",
      "Número de Factores: 16\n",
      "Evaluating RMSE of algorithm SVD on 3 split(s).\n",
      "\n",
      "                  Fold 1  Fold 2  Fold 3  Mean    Std     \n",
      "RMSE (testset)    1.1251  1.1204  1.1170  1.1208  0.0033  \n",
      "Fit time          6.36    6.20    6.35    6.30    0.07    \n",
      "Test time         0.50    0.51    0.51    0.51    0.01    \n",
      "\n",
      "Número de Factores: 32\n",
      "Evaluating RMSE of algorithm SVD on 3 split(s).\n",
      "\n",
      "                  Fold 1  Fold 2  Fold 3  Mean    Std     \n",
      "RMSE (testset)    1.1181  1.1236  1.1178  1.1198  0.0027  \n",
      "Fit time          6.31    6.35    6.34    6.33    0.02    \n",
      "Test time         0.50    0.40    0.50    0.47    0.05    \n",
      "\n",
      "Número de Factores: 64\n",
      "Evaluating RMSE of algorithm SVD on 3 split(s).\n",
      "\n",
      "                  Fold 1  Fold 2  Fold 3  Mean    Std     \n",
      "RMSE (testset)    1.1271  1.1170  1.1151  1.1197  0.0053  \n",
      "Fit time          6.21    6.28    6.14    6.21    0.06    \n",
      "Test time         0.49    0.51    0.50    0.50    0.01    \n",
      "\n",
      "Número de Factores: 128\n",
      "Evaluating RMSE of algorithm SVD on 3 split(s).\n",
      "\n",
      "                  Fold 1  Fold 2  Fold 3  Mean    Std     \n",
      "RMSE (testset)    1.1223  1.1191  1.1213  1.1209  0.0013  \n",
      "Fit time          6.38    6.23    6.24    6.29    0.07    \n",
      "Test time         0.51    0.39    0.52    0.47    0.06    \n",
      "\n",
      "Número de Factores: 256\n",
      "Evaluating RMSE of algorithm SVD on 3 split(s).\n",
      "\n",
      "                  Fold 1  Fold 2  Fold 3  Mean    Std     \n",
      "RMSE (testset)    1.1175  1.1211  1.1213  1.1200  0.0018  \n",
      "Fit time          6.34    6.31    6.36    6.34    0.02    \n",
      "Test time         0.51    0.51    0.51    0.51    0.00    \n",
      "\n",
      "Número de Factores: 512\n",
      "Evaluating RMSE of algorithm SVD on 3 split(s).\n",
      "\n",
      "                  Fold 1  Fold 2  Fold 3  Mean    Std     \n",
      "RMSE (testset)    1.1173  1.1189  1.1223  1.1195  0.0021  \n",
      "Fit time          6.26    6.28    6.56    6.37    0.14    \n",
      "Test time         0.50    0.39    0.51    0.47    0.06    \n"
     ]
    }
   ],
   "source": [
    "from surprise.model_selection import cross_validate\n",
    "\n",
    "rmse_test_means = []\n",
    "factores = [2,4,5,6, 8,16,32,64,128,256,512]\n",
    "\n",
    "for factor in factores:\n",
    "    print(f'\\nNúmero de Factores: {factor}')\n",
    "    algo = SVD(n_factors=factor)\n",
    "    cv = cross_validate(svdJuegos, data1, measures=['RMSE'], cv = 3, verbose=True)\n",
    "    rmse_test_means.append(np.mean(cv['test_rmse']))"
   ]
  },
  {
   "cell_type": "code",
   "execution_count": 78,
   "metadata": {},
   "outputs": [
    {
     "data": {
      "image/png": "[encoded data removed]",
      "text/plain": [
       "<Figure size 432x288 with 1 Axes>"
      ]
     },
     "metadata": {},
     "output_type": "display_data"
    }
   ],
   "source": [
    "plt.scatter(factores, rmse_test_means)\n",
    "plt.xlabel('Numero de factores')\n",
    "plt.ylabel('Error RMSE')\n",
    "plt.show()"
   ]
  },
  {
   "cell_type": "markdown",
   "metadata": {},
   "source": [
    "De la validación cruzada, para esta ejecución, se obtienen la mejor media RMSE con el número de Factores 4, es la que tiene el valor más bajo del error.\n",
    "\n",
    "Adicionalmente, esto se confirma en la gráfica, el punto más bajo de Error RMSE se encuentra con # de factores de 4.\n",
    "De los datos \n",
    "\n",
    "NOTA: En otras ejecuciones estos factores van cambiando, en ocasiones me ha resultado que el factor da distinto, pero en la mayoria de las ejecuciones con factores 4 siempre da la menor metrica de error RMSE.\n",
    " \n",
    " "
   ]
  },
  {
   "cell_type": "markdown",
   "metadata": {},
   "source": [
    "### B. OPTIMIZACIÓN CON GRIDSEARCHCV\n",
    "\n",
    "Partiendo del factor que me dio mas bajo 4 y buscando adicional en el vecindario de este valor, se realizan optimización por GridSearchCV con otros de los hiperparametros de este modelo, para ver como se puede optimizar aún más. \n",
    "\n",
    "**NOTA**: El codigo a continuación se comenta en su parte de entrenamiento porque puede ser muy demorada su ejecución, se deja el resultado obtenido impreso a continuación como texto."
   ]
  },
  {
   "cell_type": "code",
   "execution_count": 79,
   "metadata": {},
   "outputs": [],
   "source": [
    "from surprise.model_selection import GridSearchCV\n",
    "\n",
    "param_grid = {'n_factors': [4, 5, 6, 7, 8, 16],'n_epochs': [20, 40, 80, 100], 'lr_all': [0.001, 0.002, 0.005],\n",
    "              'reg_all': [0.002, 0.02, 0.2]}\n",
    "\n",
    "#param_grid = {'n_factors': [128, 256, 512],'n_epochs': [20, 40, 80], 'lr_all': [0.5, 0.1, 0.05, 0.01, 0.005],\n",
    "#              'reg_all': [0.002, 0.02, 0.2]}\n",
    "\n",
    "gs = GridSearchCV(SVD, param_grid, measures=['rmse'], cv=3, n_jobs = -1)\n",
    "#gs.fit(data1)"
   ]
  },
  {
   "cell_type": "code",
   "execution_count": 80,
   "metadata": {},
   "outputs": [],
   "source": [
    "#print(gs.best_score['rmse'])\n",
    "#print(gs.best_params['rmse'])"
   ]
  },
  {
   "cell_type": "markdown",
   "metadata": {},
   "source": [
    "**Resultado GridSearchCV**\n",
    "\n",
    "1.109625768030699\n",
    "{'n_factors': 4, 'n_epochs': 80, 'lr_all': 0.002, 'reg_all': 0.02}"
   ]
  },
  {
   "cell_type": "markdown",
   "metadata": {},
   "source": [
    "### C. Reentrenar modelo con parametros optimizados"
   ]
  },
  {
   "cell_type": "code",
   "execution_count": 94,
   "metadata": {},
   "outputs": [],
   "source": [
    "svdJuegos2 = SVD(random_state=42, n_factors=4, n_epochs=80, lr_all=0.002, reg_all=0.02)"
   ]
  },
  {
   "cell_type": "code",
   "execution_count": 95,
   "metadata": {},
   "outputs": [
    {
     "data": {
      "text/plain": [
       "<surprise.prediction_algorithms.matrix_factorization.SVD at 0x16e5f835a90>"
      ]
     },
     "execution_count": 95,
     "metadata": {},
     "output_type": "execute_result"
    }
   ],
   "source": [
    "svdJuegos2.fit(trainset)"
   ]
  },
  {
   "cell_type": "code",
   "execution_count": 96,
   "metadata": {},
   "outputs": [],
   "source": [
    "prediccionesF = svdJuegos2.test(testset)"
   ]
  },
  {
   "cell_type": "code",
   "execution_count": 97,
   "metadata": {},
   "outputs": [
    {
     "name": "stdout",
     "output_type": "stream",
     "text": [
      "RMSE: 1.1020\n"
     ]
    },
    {
     "data": {
      "text/plain": [
       "1.1020328926002867"
      ]
     },
     "execution_count": 97,
     "metadata": {},
     "output_type": "execute_result"
    }
   ],
   "source": [
    "accuracy.rmse(prediccionesF)"
   ]
  },
  {
   "cell_type": "markdown",
   "metadata": {},
   "source": [
    "\n",
    "\n"
   ]
  },
  {
   "cell_type": "markdown",
   "metadata": {},
   "source": [
    "## 6. CONCLUSIONES\n",
    "\n",
    "Se escoge como métrica para la medición el RMSE:\n",
    "\n",
    "**Root Mean Squared Error** se popularizó bastante debido a que fue utilizada como métrica durante el Netflix Prize para evaluar el desempeño de los algoritmos. RMSE representa básicamente la desviación estándar de las diferencias entre los valores estimados y los valores reales. Se define como la raíz cuadrada de la diferencia entre la predicción del rating y su valor real al cuadrado.\n",
    "\n",
    "\n",
    "Con el modelo de parámetros optimizados se obtiene una mejoria en el Error RMSE, comparado con el modelo inicial entrenado Benchmark, que inicialmente se encontraba:"
   ]
  },
  {
   "cell_type": "code",
   "execution_count": 85,
   "metadata": {},
   "outputs": [
    {
     "name": "stdout",
     "output_type": "stream",
     "text": [
      "RMSE modelo sin optimización de parámetros: \n",
      "RMSE: 1.1144\n",
      "1.1143968637223256\n",
      "RMSE modelo con optimización de parámetros: \n",
      "RMSE: 1.1020\n",
      "1.1020328926002867\n"
     ]
    }
   ],
   "source": [
    "print(\"RMSE modelo sin optimización de parámetros: \")\n",
    "print(accuracy.rmse(predictions2))\n",
    "\n",
    "print(\"RMSE modelo con optimización de parámetros: \")\n",
    "print(accuracy.rmse(prediccionesF))"
   ]
  },
  {
   "cell_type": "markdown",
   "metadata": {},
   "source": [
    "De este sistema de recomendación entrenado, revisando sus resultados, se observa que aún el RMSE no es demasiado bueno, pero en el siguiente trabajo se trabajara en otros modelos y revisión de la forma de obtener el rating para tratar de identificar como mejorar estos resultados.\n",
    "\n"
   ]
  },
  {
   "cell_type": "markdown",
   "metadata": {},
   "source": [
    "## 6. PROXIMOS PASOS"
   ]
  },
  {
   "cell_type": "markdown",
   "metadata": {},
   "source": [
    "En este proyecto, como primer acercamiento a los modelos de sistemas de recomendación tuve aprendizajes de como abordar este dataset y preprocesarlo, conseguir las columnas de interes para un sistema de recomendación como son el id usuario y ranking, entrenar el modelo con la optimización de sus parametros empleando el SVD,  para seguir investigando y explorando planteo lo siguiente:\n",
    "\n",
    "- Probar con otros modelos de sistemas de recomendación, vistos en la siguiente pagina:\n",
    "https://surprise.readthedocs.io/en/stable/prediction_algorithms_package.html\n",
    "    \n",
    "- Explorar otras metricas para la evaluación de los modelos de recomendación. \n",
    "\n",
    "- Tratar de utilizar NLP sobre los comentarios de los usuarios para de ahi extraer el ranking y combinarlo con el numero de horas. \n",
    "\n",
    "- Otra opción seria emplear otro tipo de modelo de recomendación no por filtro colaborativo, sino basado en contenidos para la recomendaciones.\n",
    "    "
   ]
  },
  {
   "cell_type": "code",
   "execution_count": null,
   "metadata": {},
   "outputs": [],
   "source": []
  }
 ],
 "metadata": {
  "colab": {
   "collapsed_sections": [],
   "name": "DS_Proyecto_03_SR.ipynb",
   "provenance": []
  },
  "kernelspec": {
   "display_name": "Python 3",
   "language": "python",
   "name": "python3"
  },
  "language_info": {
   "codemirror_mode": {
    "name": "ipython",
    "version": 3
   },
   "file_extension": ".py",
   "mimetype": "text/x-python",
   "name": "python",
   "nbconvert_exporter": "python",
   "pygments_lexer": "ipython3",
   "version": "3.9.4"
  }
 },
 "nbformat": 4,
 "nbformat_minor": 4
}
